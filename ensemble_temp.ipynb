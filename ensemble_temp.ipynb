{
  "nbformat": 4,
  "nbformat_minor": 0,
  "metadata": {
    "colab": {
      "provenance": []
    },
    "kernelspec": {
      "name": "python3",
      "display_name": "Python 3"
    },
    "language_info": {
      "name": "python"
    }
  },
  "cells": [
    {
      "cell_type": "code",
      "source": [
        "# Mount\n",
        "from google.colab import drive\n",
        "drive.mount('/content/drive')"
      ],
      "metadata": {
        "id": "UotRDMe-gYkf"
      },
      "execution_count": null,
      "outputs": []
    },
    {
      "cell_type": "code",
      "source": [
        "import tensorflow as tf\n",
        "import numpy as np\n",
        "from tensorflow.keras.models import load_model\n",
        "from sklearn.metrics import accuracy_score\n",
        "import os"
      ],
      "metadata": {
        "id": "6OYC1rcUgZ9j"
      },
      "execution_count": null,
      "outputs": []
    },
    {
      "cell_type": "code",
      "source": [
        "# Models load\n",
        "mobilenet_model_path = \"/content/drive/My Drive/My_Plant_Proj/Dataset/mobilenetv2_fast.h5\"\n",
        "densenet_model_path = \"/content/drive/My Drive/My_Plant_Proj/Dataset/densenet121_fast.h5\"\n",
        "efficientnet_model_path = \"/content/drive/My Drive/My_Plant_Proj/Dataset/efficientnetb0_fast.h5\"\n",
        "\n",
        "mobilenet = load_model(mobilenet_model_path)\n",
        "densenet = load_model(densenet_model_path)\n",
        "efficientnet = load_model(efficientnet_model_path)"
      ],
      "metadata": {
        "id": "jypuwPezgdY1"
      },
      "execution_count": null,
      "outputs": []
    },
    {
      "cell_type": "code",
      "source": [
        "# Prepare validation data generator\n",
        "from tensorflow.keras.preprocessing.image import ImageDataGenerator\n",
        "import pandas as pd\n",
        "\n",
        "IMG_SIZE = (128, 128)\n",
        "BATCH_SIZE = 64\n",
        "valid_dir = \"/content/drive/My Drive/My_Plant_Proj/Dataset/Dataset/valid\"\n",
        "MAX_PER_CLASS = 180\n",
        "\n",
        "def get_limited_image_paths(directory, max_per_class=180):\n",
        "    image_paths = []\n",
        "    labels = []\n",
        "    for class_name in os.listdir(directory):\n",
        "        class_path = os.path.join(directory, class_name)\n",
        "        if os.path.isdir(class_path):\n",
        "            all_images = os.listdir(class_path)\n",
        "            selected_images = all_images[:max_per_class]\n",
        "            for img in selected_images:\n",
        "                image_paths.append(os.path.join(class_path, img))\n",
        "                labels.append(class_name)\n",
        "    return pd.DataFrame({\"filename\": image_paths, \"class\": labels})\n",
        "\n",
        "valid_df = get_limited_image_paths(valid_dir, MAX_PER_CLASS)\n",
        "\n",
        "datagen = ImageDataGenerator(rescale=1./255)\n",
        "valid_generator = datagen.flow_from_dataframe(\n",
        "    dataframe=valid_df, directory=None, x_col=\"filename\", y_col=\"class\",\n",
        "    target_size=IMG_SIZE, batch_size=BATCH_SIZE, class_mode='categorical', shuffle=False\n",
        ")"
      ],
      "metadata": {
        "id": "nRmPAogAgh67"
      },
      "execution_count": null,
      "outputs": []
    },
    {
      "cell_type": "code",
      "source": [
        "# Predictions using individual models\n",
        "y_pred_mobilenet = mobilenet.predict(valid_generator)\n",
        "y_pred_densenet = densenet.predict(valid_generator)\n",
        "y_pred_efficientnet = efficientnet.predict(valid_generator)"
      ],
      "metadata": {
        "id": "dwLdWnnKgiz8"
      },
      "execution_count": null,
      "outputs": []
    },
    {
      "cell_type": "code",
      "source": [
        "# Soft weighted ensemble\n",
        "weights = [0.3, 0.3, 0.4]  # temp weights (use gradcam to better understand the weights)\n",
        "ensemble_pred = (weights[0] * y_pred_mobilenet +\n",
        "                 weights[1] * y_pred_densenet +\n",
        "                 weights[2] * y_pred_efficientnet)\n",
        "\n",
        "ensemble_classes = np.argmax(ensemble_pred, axis=1)\n",
        "true_classes = valid_generator.classes"
      ],
      "metadata": {
        "id": "MHd40tj0gko5"
      },
      "execution_count": null,
      "outputs": []
    },
    {
      "cell_type": "code",
      "execution_count": null,
      "metadata": {
        "id": "OK3jmdragRpA"
      },
      "outputs": [],
      "source": [
        "# Accuracy\n",
        "accuracy = accuracy_score(true_classes, ensemble_classes)\n",
        "print(f\"Ensemble Accuracy: {accuracy:.4f}\")"
      ]
    }
  ]
}